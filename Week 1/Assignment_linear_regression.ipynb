{
 "cells": [
  {
   "cell_type": "code",
   "execution_count": 1,
   "metadata": {
    "id": "-zTLHrFCT6KY"
   },
   "outputs": [],
   "source": [
    "import numpy as np\n",
    "import pandas as pd\n",
    "import matplotlib.pyplot as plt\n",
    "\n",
    "# Aim is to predict the marks of students of the test data"
   ]
  },
  {
   "cell_type": "code",
   "execution_count": 2,
   "metadata": {
    "id": "p0KHq8ZgTpU4"
   },
   "outputs": [
    {
     "data": {
      "image/png": "[encoded data removed]",
      "text/plain": [
       "<Figure size 640x480 with 1 Axes>"
      ]
     },
     "metadata": {},
     "output_type": "display_data"
    }
   ],
   "source": [
    "# Use the file namd 'training data' to train the model\n",
    "\n",
    "data = pd.read_excel('Training data.xlsx')\n",
    "\n",
    "# adding extra index\n",
    "data['extra_time'] = data['absences'] * data['traveltime']\n",
    "\n",
    "# reordering the columns\n",
    "columns_titles = ['internet', 'sex', 'traveltime', 'studytime', 'freetime',\n",
    "                  'absences', 'age', 'iq', 'extra_time', 'marks']\n",
    "data = data.reindex(columns = columns_titles)\n",
    "\n",
    "x_train = np.array(data.iloc[:, :-1])\n",
    "y_train = np.array(data.loc[:, ['marks']]).reshape(-1, 1)\n",
    "\n",
    "# Try plotting y_train with different features\n",
    "# To get an idea whether to add some features or not\n",
    "# Add some features if required in x_train\n",
    "\n",
    "plt.scatter(x_train[:10, 2], y_train[0:10], label = 'traveltime', c = 'r')\n",
    "plt.scatter(x_train[:10, 3], y_train[0:10], label = 'studytime', c = 'g')\n",
    "plt.scatter(x_train[:10, 4], y_train[0:10], label = 'freetime', c = 'b')\n",
    "\n",
    "plt.legend()\n",
    "plt.show()\n",
    "\n",
    "# Also do label encoding for features not represented in numbers\n",
    "# refer the link if not know : https://youtu.be/589nCGeWG1w?si=t2Wa7LgbUOO4RooM\n",
    "\n",
    "def feature_changing(x_train):\n",
    "  # ---------\n",
    "    # Your code here\n",
    "    for i in range(x_train.shape[0]):\n",
    "        if(x_train[i][0] == 'yes'):\n",
    "            x_train[i][0] = 1\n",
    "        else:\n",
    "            x_train[i][0] = 0\n",
    "        if(x_train[i][1] == 'M'):\n",
    "            x_train[i][1] = 1\n",
    "        else:\n",
    "            x_train[i][1] = 0\n",
    "  # ---------\n",
    "    return x_train\n",
    "\n",
    "x_train = feature_changing(x_train)"
   ]
  },
  {
   "cell_type": "code",
   "execution_count": 3,
   "metadata": {
    "id": "tYshvtYlVour"
   },
   "outputs": [],
   "source": [
    "def z_score(x_train):\n",
    "\n",
    "  # ---------\n",
    "    # write the code for feature scaling here\n",
    "    # Your code here\n",
    "    x_mean = np.mean(x_train, axis = 0)\n",
    "    x_std = np.std(x_train, axis = 0, dtype = np.float64)\n",
    "    x_train = (x_train - x_mean) / x_std\n",
    "  # ---------\n",
    "\n",
    "    return x_train,x_std,x_mean"
   ]
  },
  {
   "cell_type": "code",
   "execution_count": 4,
   "metadata": {
    "id": "O5dOwbNbWJWa"
   },
   "outputs": [],
   "source": [
    "def cost(x_train,y_train,w,b):\n",
    "\n",
    "  # ---------\n",
    "    # Use mean square error as cost function\n",
    "    # return cost\n",
    "    m = x_train.shape[0]\n",
    "    y_pred = np.dot(x_train, w) + b\n",
    "    cost = (y_pred - y_train) ** 2\n",
    "    loss = np.sum(cost) / (2 * m)\n",
    "  # ---------\n",
    "\n",
    "    return loss"
   ]
  },
  {
   "cell_type": "code",
   "execution_count": 1,
   "metadata": {
    "id": "hW8p2cTNU74W"
   },
   "outputs": [],
   "source": [
    "def gradient_descent(x_train,y_train,w,b):\n",
    "\n",
    "  # ---------\n",
    "    learning_rate = 0.01\n",
    "    x, y = x_train.shape\n",
    "    dj_dw = np.zeros((y, 1))\n",
    "    dj_db = 0.0\n",
    "    y_pred = np.dot(x_train, w) + b\n",
    "    for i in range(x):\n",
    "        cost = y_pred[i] - y_train[i]\n",
    "        for j in range(y):\n",
    "            dj_dw[j] += cost * x_train[i, j]\n",
    "        dj_db += cost                \n",
    "    dj_dw = dj_dw / x                              \n",
    "    dj_db = dj_db / x\n",
    "\n",
    "    w = w - learning_rate * dj_dw\n",
    "    b = b - learning_rate * dj_db \n",
    "  # ---------\n",
    "\n",
    "    return w,b"
   ]
  },
  {
   "cell_type": "code",
   "execution_count": 6,
   "metadata": {
    "id": "Kl-fioJ5WkYn"
   },
   "outputs": [
    {
     "name": "stdout",
     "output_type": "stream",
     "text": [
      "Congratulations, your accuracy is 100.0%\n"
     ]
    }
   ],
   "source": [
    "x_train = x_train.astype(np.float64)\n",
    "x_train,x_std,x_mean = z_score(x_train)\n",
    "\n",
    "np.random.seed(2147483647)\n",
    "w = np.random.randn(x_train.shape[1],1)\n",
    "b = np.random.randn(1)\n",
    "\n",
    "old_cost = 0\n",
    "\n",
    "while abs(old_cost - cost(x_train,y_train,w,b))>0.00001:\n",
    "  old_cost = cost(x_train,y_train,w,b)\n",
    "  w,b = gradient_descent(x_train,y_train,w,b)  \n",
    "\n",
    "# x_predict = pd.read_excel('Test data.xlsx').iloc[:,:8].to_numpy()\n",
    "# x_predict = feature_changing(x_predict)\n",
    "# x_predict = (x_predict - x_mean)/x_std\n",
    "# ans = pd.read_excel('Test data.xlsx').iloc[:,8].to_numpy()\n",
    "\n",
    "# some extra adjustment as I added extra feature\n",
    "data1 = pd.read_excel('Test data.xlsx')\n",
    "data1['extra_time'] = data1['absences'] * data1['traveltime']\n",
    "columns_titles = ['internet', 'sex', 'traveltime', 'studytime', 'freetime',\n",
    "                  'absences', 'age', 'iq', 'extra_time', 'marks']\n",
    "data1 = data1.reindex(columns = columns_titles)\n",
    "x_predict = np.array(data1.iloc[:, :-1])\n",
    "\n",
    "x_predict = feature_changing(x_predict)\n",
    "x_predict = (x_predict - x_mean)/x_std\n",
    "ans = np.array(data1.loc[:, ['marks']]).reshape(-1, 1)\n",
    "\n",
    "y_predict = np.dot(x_predict,w) + b\n",
    "\n",
    "accuracy = 0\n",
    "for dim in range(len(ans)):\n",
    "  if abs(y_predict[dim]-ans[dim])<0.5: # do not change the tolerance as you'll be checked on +- 0.5 error only\n",
    "    accuracy += 1\n",
    "accuracy = round(accuracy*100/200.0,2)\n",
    "ok = 'Congratulations' if accuracy>95 else 'Optimization required'\n",
    "print(f\"{ok}, your accuracy is {accuracy}%\")"
   ]
  },
  {
   "cell_type": "code",
   "execution_count": null,
   "metadata": {},
   "outputs": [],
   "source": []
  }
 ],
 "metadata": {
  "colab": {
   "provenance": []
  },
  "kernelspec": {
   "display_name": "Python 3 (ipykernel)",
   "language": "python",
   "name": "python3"
  },
  "language_info": {
   "codemirror_mode": {
    "name": "ipython",
    "version": 3
   },
   "file_extension": ".py",
   "mimetype": "text/x-python",
   "name": "python",
   "nbconvert_exporter": "python",
   "pygments_lexer": "ipython3",
   "version": "3.11.9"
  }
 },
 "nbformat": 4,
 "nbformat_minor": 4
}
